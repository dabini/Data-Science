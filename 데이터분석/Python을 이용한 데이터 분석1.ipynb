{
 "cells": [
  {
   "cell_type": "code",
   "execution_count": 3,
   "metadata": {},
   "outputs": [],
   "source": [
    "import numpy as np\n",
    "import pandas as pd\n",
    "import datetime\n",
    "from datetime import datetime, date\n",
    "pd.set_option('display.notebook_repr_html', False)\n",
    "pd.set_option('display.max_columns', 8)\n",
    "pd.set_option('display.max_rows', 10)\n",
    "pd.set_option('display.width', 80)\n",
    "import matplotlib.pyplot as plt\n",
    "%matplotlib inline"
   ]
  },
  {
   "cell_type": "markdown",
   "metadata": {},
   "source": [
    "pd.set_option('display.notebook_repr_html', False)\n",
    "pd.set_option('display.max_columns', 8)\n",
    "pd.set_option('display.width', 80)\n",
    "\n",
    "- 결과를 html형식이 아닌 text 형시으로 받는다.\n",
    "- 출력되는 최대 columns의 수는 8로 제한한다.\n",
    "- 출력되는 최대 row의 수는 10으로 제한하다.\n",
    "- 출력되는 최대 단어의 기를 80자로 제한한다.\n",
    "\n",
    "import matplotlib.pyplot as plt\n",
    "%matplotlib inline\n",
    "시각화(차트, 그래프)를 위한 라이브러리"
   ]
  },
  {
   "cell_type": "code",
   "execution_count": 4,
   "metadata": {},
   "outputs": [],
   "source": [
    "s= pd.Series([1,2,3,4])"
   ]
  },
  {
   "cell_type": "code",
   "execution_count": 5,
   "metadata": {},
   "outputs": [
    {
     "data": {
      "text/plain": [
       "0    1\n",
       "1    2\n",
       "2    3\n",
       "3    4\n",
       "dtype: int64"
      ]
     },
     "execution_count": 5,
     "metadata": {},
     "output_type": "execute_result"
    }
   ],
   "source": [
    "s"
   ]
  },
  {
   "cell_type": "code",
   "execution_count": 6,
   "metadata": {},
   "outputs": [
    {
     "data": {
      "text/plain": [
       "1    2\n",
       "2    3\n",
       "dtype: int64"
      ]
     },
     "execution_count": 6,
     "metadata": {},
     "output_type": "execute_result"
    }
   ],
   "source": [
    "s[[1, 2]]"
   ]
  },
  {
   "cell_type": "code",
   "execution_count": 7,
   "metadata": {},
   "outputs": [
    {
     "data": {
      "text/plain": [
       "a    1\n",
       "b    2\n",
       "dtype: int64"
      ]
     },
     "execution_count": 7,
     "metadata": {},
     "output_type": "execute_result"
    }
   ],
   "source": [
    "ss = pd.Series([1,2,3,4], index=['a', 'b', 'c', 'd'])\n",
    "ss[['a','b']]"
   ]
  },
  {
   "cell_type": "markdown",
   "metadata": {},
   "source": [
    "Index값은 사용자 임의로 주소의 이름을 변경할 수 있다. 주소의 이름을 a, b, c, d로 변경한 경우, a, b를 호출하여 값을 확인할 수 있다."
   ]
  },
  {
   "cell_type": "code",
   "execution_count": 9,
   "metadata": {},
   "outputs": [
    {
     "data": {
      "text/plain": [
       "DatetimeIndex(['2019-09-01', '2019-09-02', '2019-09-03', '2019-09-04',\n",
       "               '2019-09-05', '2019-09-06'],\n",
       "              dtype='datetime64[ns]', freq='D')"
      ]
     },
     "execution_count": 9,
     "metadata": {},
     "output_type": "execute_result"
    }
   ],
   "source": [
    "dates = pd.date_range('2019-09-01', '2019-09-06')\n",
    "dates"
   ]
  },
  {
   "cell_type": "markdown",
   "metadata": {},
   "source": [
    "pandas의 date_range 함수는 '시작', '종료'이며, 시작일자와 종료일자 사이의 날짜를 순서대로 생성한다."
   ]
  },
  {
   "cell_type": "code",
   "execution_count": 10,
   "metadata": {},
   "outputs": [
    {
     "data": {
      "text/plain": [
       "2019-09-01    80\n",
       "2019-09-02    82\n",
       "2019-09-03    95\n",
       "2019-09-04    90\n",
       "2019-09-05    83\n",
       "2019-09-06    87\n",
       "Freq: D, dtype: int64"
      ]
     },
     "execution_count": 10,
     "metadata": {},
     "output_type": "execute_result"
    }
   ],
   "source": [
    "temp = pd.Series([80, 82, 95, 90, 83, 87], index=dates)\n",
    "temp"
   ]
  },
  {
   "cell_type": "markdown",
   "metadata": {},
   "source": [
    "날짜 값을 index로 지정하면 시계열 형태의 자료가 만들어진다. 각 날짜에 해당 값이 저장된 것을 확인할 수 있다."
   ]
  },
  {
   "cell_type": "code",
   "execution_count": 11,
   "metadata": {},
   "outputs": [
    {
     "data": {
      "text/plain": [
       "82"
      ]
     },
     "execution_count": 11,
     "metadata": {},
     "output_type": "execute_result"
    }
   ],
   "source": [
    "temp['2019-09-02']"
   ]
  },
  {
   "cell_type": "code",
   "execution_count": 12,
   "metadata": {},
   "outputs": [
    {
     "data": {
      "text/plain": [
       "2019-09-01     6\n",
       "2019-09-02    20\n",
       "2019-09-03     5\n",
       "2019-09-04    18\n",
       "2019-09-05    20\n",
       "2019-09-06     8\n",
       "Freq: D, dtype: int64"
      ]
     },
     "execution_count": 12,
     "metadata": {},
     "output_type": "execute_result"
    }
   ],
   "source": [
    "score_A_class = pd.Series([80, 75, 67, 32, 43, 55], index=dates)\n",
    "score_B_class = pd.Series([74, 55, 62, 14, 23, 47], index=dates)\n",
    "\n",
    "score_A_class - score_B_class"
   ]
  },
  {
   "cell_type": "code",
   "execution_count": 13,
   "metadata": {},
   "outputs": [
    {
     "data": {
      "text/plain": [
       "12.833333333333334"
      ]
     },
     "execution_count": 13,
     "metadata": {},
     "output_type": "execute_result"
    }
   ],
   "source": [
    "temp = score_A_class - score_B_class\n",
    "temp.mean()"
   ]
  },
  {
   "cell_type": "markdown",
   "metadata": {},
   "source": [
    "차이를 구할 경우 동일한 Series 형태의 자료로 연산이 가능하다.\n",
    "또한, 다른 변수에 연산 값을 저장하여 다양한 함수를 사용할 수 있다. \n",
    "mean: 평균값"
   ]
  },
  {
   "cell_type": "markdown",
   "metadata": {},
   "source": [
    "### DataFrame"
   ]
  },
  {
   "cell_type": "markdown",
   "metadata": {},
   "source": [
    "위의 연산에서는 두 변수를 각각 생성했다. 하지만 대게 우리는 특정한 자료(표로 이루어진)에서 정리하고, 분석하는 방법을 선택한다. 따라서 '표'와 같은 데이터 프레임을 생성하고 다루는 방법에 대해서 알아보자."
   ]
  },
  {
   "cell_type": "code",
   "execution_count": 15,
   "metadata": {},
   "outputs": [
    {
     "data": {
      "text/plain": [
       "             A   B\n",
       "2019-09-01  80  74\n",
       "2019-09-02  75  55\n",
       "2019-09-03  67  62\n",
       "2019-09-04  32  14\n",
       "2019-09-05  43  23\n",
       "2019-09-06  55  47"
      ]
     },
     "execution_count": 15,
     "metadata": {},
     "output_type": "execute_result"
    }
   ],
   "source": [
    "df_temp = pd.DataFrame({'A': score_A_class, 'B': score_B_class})\n",
    "df_temp"
   ]
  },
  {
   "cell_type": "markdown",
   "metadata": {},
   "source": [
    "다음과 같은 딕셔너리 형태로 데이터 프레임을 생성하는데 앞에 \"A\", \"B\"는 이름에 해당하고, 콜론 뒤에 붙은 변수가 실제 저장되는 자료를 의미한다."
   ]
  },
  {
   "cell_type": "markdown",
   "metadata": {},
   "source": [
    "#### DataFrame의 사용방법"
   ]
  },
  {
   "cell_type": "code",
   "execution_count": 17,
   "metadata": {},
   "outputs": [
    {
     "data": {
      "text/plain": [
       "2019-09-01    80\n",
       "2019-09-02    75\n",
       "2019-09-03    67\n",
       "2019-09-04    32\n",
       "2019-09-05    43\n",
       "2019-09-06    55\n",
       "Freq: D, Name: A, dtype: int64"
      ]
     },
     "execution_count": 17,
     "metadata": {},
     "output_type": "execute_result"
    }
   ],
   "source": [
    "df_temp[\"A\"]"
   ]
  },
  {
   "cell_type": "markdown",
   "metadata": {},
   "source": [
    "A값만 따로 호출할 수 있다."
   ]
  },
  {
   "cell_type": "code",
   "execution_count": 19,
   "metadata": {},
   "outputs": [
    {
     "data": {
      "text/plain": [
       "             A   B\n",
       "2019-09-01  80  74\n",
       "2019-09-02  75  55\n",
       "2019-09-03  67  62\n",
       "2019-09-04  32  14\n",
       "2019-09-05  43  23\n",
       "2019-09-06  55  47"
      ]
     },
     "execution_count": 19,
     "metadata": {},
     "output_type": "execute_result"
    }
   ],
   "source": [
    "df_temp[['A', 'B']]"
   ]
  },
  {
   "cell_type": "markdown",
   "metadata": {},
   "source": [
    "특정 변수만 따로 호출할 수 있다."
   ]
  },
  {
   "cell_type": "code",
   "execution_count": 21,
   "metadata": {},
   "outputs": [
    {
     "data": {
      "text/plain": [
       "2019-09-01     6\n",
       "2019-09-02    20\n",
       "2019-09-03     5\n",
       "2019-09-04    18\n",
       "2019-09-05    20\n",
       "2019-09-06     8\n",
       "Freq: D, dtype: int64"
      ]
     },
     "execution_count": 21,
     "metadata": {},
     "output_type": "execute_result"
    }
   ],
   "source": [
    "df_temp.A - df_temp.B"
   ]
  },
  {
   "cell_type": "markdown",
   "metadata": {},
   "source": [
    "다으뫄 같이 **\"변수명.컬럼\"**으로 호출하여 연산할 수 있다."
   ]
  },
  {
   "cell_type": "code",
   "execution_count": 22,
   "metadata": {},
   "outputs": [
    {
     "data": {
      "text/plain": [
       "             A   B  dif\n",
       "2019-09-01  80  74    6\n",
       "2019-09-02  75  55   20\n",
       "2019-09-03  67  62    5\n",
       "2019-09-04  32  14   18\n",
       "2019-09-05  43  23   20\n",
       "2019-09-06  55  47    8"
      ]
     },
     "execution_count": 22,
     "metadata": {},
     "output_type": "execute_result"
    }
   ],
   "source": [
    "dif = df_temp.A - df_temp.B\n",
    "df_temp['dif'] = dif\n",
    "df_temp"
   ]
  },
  {
   "cell_type": "markdown",
   "metadata": {},
   "source": [
    "새로운 자료를 추가할 수 있다. 예제는 \"A와 B의 차\"를 diff라는 칼럼으로 추가했다."
   ]
  },
  {
   "cell_type": "code",
   "execution_count": 23,
   "metadata": {},
   "outputs": [
    {
     "data": {
      "text/plain": [
       "Index(['A', 'B', 'dif'], dtype='object')"
      ]
     },
     "execution_count": 23,
     "metadata": {},
     "output_type": "execute_result"
    }
   ],
   "source": [
    "df_temp.columns"
   ]
  },
  {
   "cell_type": "markdown",
   "metadata": {},
   "source": [
    "해당 코드는 데이터 프레임의 컬럼만 출력하여 보여준다. 초기에 데이터 프레임의 구조를 파악할 때 유용하다. 현재 df_temp라는 데이터 프레임 안에는 \"A\", \"b\", \"diff\" 세 가지 컬럼이 존재한다."
   ]
  },
  {
   "cell_type": "code",
   "execution_count": 24,
   "metadata": {},
   "outputs": [
    {
     "data": {
      "text/plain": [
       "             A   B  dif\n",
       "2019-09-01  80  74    6\n",
       "2019-09-02  75  55   20"
      ]
     },
     "execution_count": 24,
     "metadata": {},
     "output_type": "execute_result"
    }
   ],
   "source": [
    "df_temp[df_temp.A > 70]"
   ]
  },
  {
   "cell_type": "markdown",
   "metadata": {},
   "source": [
    "A값이 70이 넘는 자료만 선택하여 보여준다. 논리적인 연산도 손쉽게 가능하다. 이러한 논리 연산은 데이터 분석을 정교화할 수 있게 해준다."
   ]
  },
  {
   "cell_type": "code",
   "execution_count": null,
   "metadata": {},
   "outputs": [],
   "source": []
  }
 ],
 "metadata": {
  "kernelspec": {
   "display_name": "Python 3",
   "language": "python",
   "name": "python3"
  },
  "language_info": {
   "codemirror_mode": {
    "name": "ipython",
    "version": 3
   },
   "file_extension": ".py",
   "mimetype": "text/x-python",
   "name": "python",
   "nbconvert_exporter": "python",
   "pygments_lexer": "ipython3",
   "version": "3.7.3"
  }
 },
 "nbformat": 4,
 "nbformat_minor": 2
}
